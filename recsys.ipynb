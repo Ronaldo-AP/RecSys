{
 "cells": [
  {
   "cell_type": "markdown",
   "metadata": {},
   "source": [
    "# SISTEMA DE RECOMENDACIÓN BASADO EN CONTENIDO"
   ]
  },
  {
   "cell_type": "markdown",
   "metadata": {},
   "source": [
    "Comenzamos importando las librerias necesarias y descargando ciertos archivos con ayuda de nltk"
   ]
  },
  {
   "cell_type": "code",
   "execution_count": 3,
   "metadata": {},
   "outputs": [
    {
     "output_type": "stream",
     "name": "stderr",
     "text": [
      "[nltk_data] Downloading package stopwords to\n[nltk_data]     C:\\Users\\Ronaldo\\AppData\\Roaming\\nltk_data...\n[nltk_data]   Package stopwords is already up-to-date!\n[nltk_data] Downloading package punkt to\n[nltk_data]     C:\\Users\\Ronaldo\\AppData\\Roaming\\nltk_data...\n[nltk_data]   Package punkt is already up-to-date!\n"
     ]
    }
   ],
   "source": [
    "import pandas as pd \r\n",
    "import numpy as np\r\n",
    "import re\r\n",
    "import string\r\n",
    "\r\n",
    "from sklearn.feature_extraction.text import CountVectorizer, TfidfTransformer\r\n",
    "from sklearn.metrics.pairwise import cosine_similarity\r\n",
    "\r\n",
    "import nltk\r\n",
    "nltk.download('stopwords')\r\n",
    "nltk.download('punkt')\r\n",
    "from nltk.corpus import stopwords\r\n",
    "from nltk.stem import SnowballStemmer\r\n",
    "from nltk.tokenize import word_tokenize\r\n",
    "\r\n",
    "from itertools import combinations"
   ]
  },
  {
   "cell_type": "markdown",
   "metadata": {},
   "source": [
    "Los datos utilizados provienen del dataset de MovieLens, ligeramente modificado. Originalmente no contenía los argumentos, los cuales han sido añadidos. "
   ]
  },
  {
   "cell_type": "code",
   "execution_count": 4,
   "metadata": {},
   "outputs": [
    {
     "output_type": "execute_result",
     "data": {
      "text/plain": [
       "   movieId                               title  \\\n",
       "0        1                    Toy Story (1995)   \n",
       "1        2                      Jumanji (1995)   \n",
       "2        3             Grumpier Old Men (1995)   \n",
       "3        4            Waiting to Exhale (1995)   \n",
       "4        5  Father of the Bride Part II (1995)   \n",
       "\n",
       "                                        genres  \\\n",
       "0  Adventure|Animation|Children|Comedy|Fantasy   \n",
       "1                   Adventure|Children|Fantasy   \n",
       "2                               Comedy|Romance   \n",
       "3                         Comedy|Drama|Romance   \n",
       "4                                       Comedy   \n",
       "\n",
       "                                           argumento  \n",
       "0  A cowboy doll is profoundly threatened and jea...  \n",
       "1  When two kids find and play a magical board ga...  \n",
       "2  John and Max resolve to save their beloved bai...  \n",
       "3  Based on Terry McMillan's novel, this film fol...  \n",
       "4  George Banks must deal not only with the pregn...  "
      ],
      "text/html": "<div>\n<style scoped>\n    .dataframe tbody tr th:only-of-type {\n        vertical-align: middle;\n    }\n\n    .dataframe tbody tr th {\n        vertical-align: top;\n    }\n\n    .dataframe thead th {\n        text-align: right;\n    }\n</style>\n<table border=\"1\" class=\"dataframe\">\n  <thead>\n    <tr style=\"text-align: right;\">\n      <th></th>\n      <th>movieId</th>\n      <th>title</th>\n      <th>genres</th>\n      <th>argumento</th>\n    </tr>\n  </thead>\n  <tbody>\n    <tr>\n      <th>0</th>\n      <td>1</td>\n      <td>Toy Story (1995)</td>\n      <td>Adventure|Animation|Children|Comedy|Fantasy</td>\n      <td>A cowboy doll is profoundly threatened and jea...</td>\n    </tr>\n    <tr>\n      <th>1</th>\n      <td>2</td>\n      <td>Jumanji (1995)</td>\n      <td>Adventure|Children|Fantasy</td>\n      <td>When two kids find and play a magical board ga...</td>\n    </tr>\n    <tr>\n      <th>2</th>\n      <td>3</td>\n      <td>Grumpier Old Men (1995)</td>\n      <td>Comedy|Romance</td>\n      <td>John and Max resolve to save their beloved bai...</td>\n    </tr>\n    <tr>\n      <th>3</th>\n      <td>4</td>\n      <td>Waiting to Exhale (1995)</td>\n      <td>Comedy|Drama|Romance</td>\n      <td>Based on Terry McMillan's novel, this film fol...</td>\n    </tr>\n    <tr>\n      <th>4</th>\n      <td>5</td>\n      <td>Father of the Bride Part II (1995)</td>\n      <td>Comedy</td>\n      <td>George Banks must deal not only with the pregn...</td>\n    </tr>\n  </tbody>\n</table>\n</div>"
     },
     "metadata": {},
     "execution_count": 4
    }
   ],
   "source": [
    "path = r\".\\archivos\\MovieLens_con_argumento.csv\"\r\n",
    "movies = pd.read_csv(path, sep=',')\r\n",
    "movies.head()"
   ]
  },
  {
   "cell_type": "markdown",
   "metadata": {},
   "source": [
    "Cada película contiene un ```movieId``` que no corresponde con el índice del DataFrame, por lo que se crean dos diccionarios con la relación que guardan entre el ```index``` y el ```movieId```"
   ]
  },
  {
   "cell_type": "code",
   "execution_count": 5,
   "metadata": {},
   "outputs": [],
   "source": [
    "# Tablas de referencia de los movield-index, cuyo objetivo es ahorrar líneas de código\r\n",
    "dict_index_movieid = movies['movieId'].to_dict()\r\n",
    "dict_movieid_index = {value: key for key, value in dict_index_movieid.items()}"
   ]
  },
  {
   "cell_type": "markdown",
   "metadata": {},
   "source": [
    "## RecSys No-Personalizado"
   ]
  },
  {
   "cell_type": "markdown",
   "metadata": {},
   "source": [
    "Para la realización de un sistema de recomendación basado en contenido es necesario estraer información de cada elemento (película), en este caso se usarán los argumentos y los géneros a los que pertenece para la búsqueda de otras películas similares.\r\n",
    "\r\n",
    "La técnica empleada para esta tarea será **Bag-Of-Words**, convirtiendo el texto a un vector algebraico que lo represente utilizando **TF-IDF** para el cálculo de la relevancia de cada palabra dentro del cada argumento del DataFrame. \r\n",
    "\r\n",
    "Los principales problemas que representa la técnica empleada son:\r\n",
    "    \r\n",
    "- Existencia de palabras muy repetitivas y que no aportan significado al texto (conectores, artículos, etc)\r\n",
    "\r\n",
    "- Dificultades a la hora de comparar textos con una diferencia en extensión alta\r\n",
    "\r\n",
    "Con respecto al primer problema, usaremos la función ```stopwords``` que contiene los principales palabras de uso común y que no aportan significado al texto analizado, además se eliminarán los signos de puntuación. Como medida adicional también se procederá a la reducción de las palabras a sus raíces usando la función ```SnowballStemmer``` para una mejor comparación de las palabras.\r\n",
    "\r\n",
    "La extensión de los textos a analizar es parecida por lo que podemos ignorar el segundo problema.\r\n",
    "\r\n",
    "Para la realización del vector se usará la función de Scikit-Learn ```CountVectorizer``` que automatiza el proceso de contar las palabras y a la cual podemos darle como argumento de entrada una función de preprocesamiento, es decir, una funciónn que se le aplicará a cada texto del DataFrame para preparar los datos. Además para dotar de mayor significado modificaremos el parámetros ```min_df``` que expresa el número mínimo de argumentos distintos en los que debe aparecer una palabra para ser tenida en cuenta. \r\n"
   ]
  },
  {
   "cell_type": "code",
   "execution_count": 6,
   "metadata": {},
   "outputs": [],
   "source": [
    "def preprocess (argument):\r\n",
    "    '''\r\n",
    "    Realiza la limpieza de los argumentos:\r\n",
    "        Transformar a minúsculas\r\n",
    "        Eliminar valores numéricos, signos de puntuación y palábras sin significado\r\n",
    "        Reducción de palabras a su raíz\r\n",
    "    Devolviendo el mismo texto ya procesado\r\n",
    "    '''\r\n",
    "    # Transformar todo el texto en letra minúscula y eliminar los valores numéricos\r\n",
    "    s = argument.lower()\r\n",
    "    s = re.sub(r\"\\d+\", \"\", s)\r\n",
    "\r\n",
    "    # Eliminar signos de puntuación y palabras sin significado para el análisis\r\n",
    "    stop_word = stopwords.words('english')\r\n",
    "    words = word_tokenize(s)\r\n",
    "    words = [x for x in words if x not in stop_word + list(string.punctuation)]\r\n",
    "\r\n",
    "    # Reducir las palabras a su raiz\r\n",
    "    stemmer = SnowballStemmer('english')\r\n",
    "    roots = []\r\n",
    "    for word in words:\r\n",
    "        roots.append(stemmer.stem(word))\r\n",
    "    \r\n",
    "    # Concatenar la lista de palabras para el CountVectorizer\r\n",
    "    s = ' '.join(roots)\r\n",
    "\r\n",
    "    return s"
   ]
  },
  {
   "cell_type": "code",
   "execution_count": 7,
   "metadata": {},
   "outputs": [],
   "source": [
    "count_arguments = CountVectorizer(preprocessor=preprocess, min_df=5)\r\n",
    "\r\n",
    "arguments_bow = (count_arguments\r\n",
    "                 .fit_transform(movies['argumento'])\r\n",
    "                 .toarray())"
   ]
  },
  {
   "cell_type": "markdown",
   "metadata": {},
   "source": [
    "Para una mejor visualización y manipulación de los datos el *array* generado se tranformará en un *DataFrame* con las palabras ordenadas alfabéticamente"
   ]
  },
  {
   "cell_type": "code",
   "execution_count": 8,
   "metadata": {},
   "outputs": [
    {
     "output_type": "execute_result",
     "data": {
      "text/plain": [
       "                                    abandon  abduct  abil  abl  aboard  \\\n",
       "title                                                                    \n",
       "Toy Story (1995)                          0       0     0    0       0   \n",
       "Jumanji (1995)                            0       0     0    0       0   \n",
       "Grumpier Old Men (1995)                   0       0     0    0       0   \n",
       "Waiting to Exhale (1995)                  0       0     0    0       0   \n",
       "Father of the Bride Part II (1995)        0       0     0    0       0   \n",
       "\n",
       "                                    aborigin  abort  abroad  abrupt  absenc  \\\n",
       "title                                                                         \n",
       "Toy Story (1995)                           0      0       0       0       0   \n",
       "Jumanji (1995)                             0      0       0       0       0   \n",
       "Grumpier Old Men (1995)                    0      0       0       0       0   \n",
       "Waiting to Exhale (1995)                   0      0       0       0       0   \n",
       "Father of the Bride Part II (1995)         0      0       0       0       0   \n",
       "\n",
       "                                    ...  youngster  youth  yuppi  zealand  \\\n",
       "title                               ...                                     \n",
       "Toy Story (1995)                    ...          0      0      0        0   \n",
       "Jumanji (1995)                      ...          0      0      0        0   \n",
       "Grumpier Old Men (1995)             ...          0      0      0        0   \n",
       "Waiting to Exhale (1995)            ...          0      0      0        0   \n",
       "Father of the Bride Part II (1995)  ...          0      0      0        0   \n",
       "\n",
       "                                    zero  zeus  zombi  zone  zoo  zoologist  \n",
       "title                                                                        \n",
       "Toy Story (1995)                       0     0      0     0    0          0  \n",
       "Jumanji (1995)                         0     0      0     0    0          0  \n",
       "Grumpier Old Men (1995)                0     0      0     0    0          0  \n",
       "Waiting to Exhale (1995)               0     0      0     0    0          0  \n",
       "Father of the Bride Part II (1995)     0     0      0     0    0          0  \n",
       "\n",
       "[5 rows x 4030 columns]"
      ],
      "text/html": "<div>\n<style scoped>\n    .dataframe tbody tr th:only-of-type {\n        vertical-align: middle;\n    }\n\n    .dataframe tbody tr th {\n        vertical-align: top;\n    }\n\n    .dataframe thead th {\n        text-align: right;\n    }\n</style>\n<table border=\"1\" class=\"dataframe\">\n  <thead>\n    <tr style=\"text-align: right;\">\n      <th></th>\n      <th>abandon</th>\n      <th>abduct</th>\n      <th>abil</th>\n      <th>abl</th>\n      <th>aboard</th>\n      <th>aborigin</th>\n      <th>abort</th>\n      <th>abroad</th>\n      <th>abrupt</th>\n      <th>absenc</th>\n      <th>...</th>\n      <th>youngster</th>\n      <th>youth</th>\n      <th>yuppi</th>\n      <th>zealand</th>\n      <th>zero</th>\n      <th>zeus</th>\n      <th>zombi</th>\n      <th>zone</th>\n      <th>zoo</th>\n      <th>zoologist</th>\n    </tr>\n    <tr>\n      <th>title</th>\n      <th></th>\n      <th></th>\n      <th></th>\n      <th></th>\n      <th></th>\n      <th></th>\n      <th></th>\n      <th></th>\n      <th></th>\n      <th></th>\n      <th></th>\n      <th></th>\n      <th></th>\n      <th></th>\n      <th></th>\n      <th></th>\n      <th></th>\n      <th></th>\n      <th></th>\n      <th></th>\n      <th></th>\n    </tr>\n  </thead>\n  <tbody>\n    <tr>\n      <th>Toy Story (1995)</th>\n      <td>0</td>\n      <td>0</td>\n      <td>0</td>\n      <td>0</td>\n      <td>0</td>\n      <td>0</td>\n      <td>0</td>\n      <td>0</td>\n      <td>0</td>\n      <td>0</td>\n      <td>...</td>\n      <td>0</td>\n      <td>0</td>\n      <td>0</td>\n      <td>0</td>\n      <td>0</td>\n      <td>0</td>\n      <td>0</td>\n      <td>0</td>\n      <td>0</td>\n      <td>0</td>\n    </tr>\n    <tr>\n      <th>Jumanji (1995)</th>\n      <td>0</td>\n      <td>0</td>\n      <td>0</td>\n      <td>0</td>\n      <td>0</td>\n      <td>0</td>\n      <td>0</td>\n      <td>0</td>\n      <td>0</td>\n      <td>0</td>\n      <td>...</td>\n      <td>0</td>\n      <td>0</td>\n      <td>0</td>\n      <td>0</td>\n      <td>0</td>\n      <td>0</td>\n      <td>0</td>\n      <td>0</td>\n      <td>0</td>\n      <td>0</td>\n    </tr>\n    <tr>\n      <th>Grumpier Old Men (1995)</th>\n      <td>0</td>\n      <td>0</td>\n      <td>0</td>\n      <td>0</td>\n      <td>0</td>\n      <td>0</td>\n      <td>0</td>\n      <td>0</td>\n      <td>0</td>\n      <td>0</td>\n      <td>...</td>\n      <td>0</td>\n      <td>0</td>\n      <td>0</td>\n      <td>0</td>\n      <td>0</td>\n      <td>0</td>\n      <td>0</td>\n      <td>0</td>\n      <td>0</td>\n      <td>0</td>\n    </tr>\n    <tr>\n      <th>Waiting to Exhale (1995)</th>\n      <td>0</td>\n      <td>0</td>\n      <td>0</td>\n      <td>0</td>\n      <td>0</td>\n      <td>0</td>\n      <td>0</td>\n      <td>0</td>\n      <td>0</td>\n      <td>0</td>\n      <td>...</td>\n      <td>0</td>\n      <td>0</td>\n      <td>0</td>\n      <td>0</td>\n      <td>0</td>\n      <td>0</td>\n      <td>0</td>\n      <td>0</td>\n      <td>0</td>\n      <td>0</td>\n    </tr>\n    <tr>\n      <th>Father of the Bride Part II (1995)</th>\n      <td>0</td>\n      <td>0</td>\n      <td>0</td>\n      <td>0</td>\n      <td>0</td>\n      <td>0</td>\n      <td>0</td>\n      <td>0</td>\n      <td>0</td>\n      <td>0</td>\n      <td>...</td>\n      <td>0</td>\n      <td>0</td>\n      <td>0</td>\n      <td>0</td>\n      <td>0</td>\n      <td>0</td>\n      <td>0</td>\n      <td>0</td>\n      <td>0</td>\n      <td>0</td>\n    </tr>\n  </tbody>\n</table>\n<p>5 rows × 4030 columns</p>\n</div>"
     },
     "metadata": {},
     "execution_count": 8
    }
   ],
   "source": [
    "columns_arguments = [tup[0] for tup in\r\n",
    "                     sorted(count_arguments.vocabulary_.items(),\r\n",
    "                            key=lambda x: x[1])]\r\n",
    "\r\n",
    "arguments_bow_df = pd.DataFrame(arguments_bow,\r\n",
    "                                columns = columns_arguments,\r\n",
    "                                index = movies['title'])\r\n",
    "\r\n",
    "arguments_bow_df.head()"
   ]
  },
  {
   "cell_type": "markdown",
   "metadata": {},
   "source": [
    "Como ya mencionado anteriormente, también se incluirán los géneros dentro del Bag-Of-Words. Para ello debemos realizar diferentes combinaciones 2 a 2 (o de uno en uno) de los géneros a los que pertenece cada película. \r\n",
    "\r\n",
    "Los géneros aparecen se presentan como un string del tipo: ```Animation|Children|Comedy|Fantasy``` por lo que debemos prepararlo para realizar las combinaciones."
   ]
  },
  {
   "cell_type": "code",
   "execution_count": 9,
   "metadata": {},
   "outputs": [],
   "source": [
    "def tokenizer_genres(string_genres):\r\n",
    "    '''\r\n",
    "    Genera todas las combinaciones posibles 1 a 1 y 2 a 2\r\n",
    "    a partir de un string de géneros, devolviendo una lista \r\n",
    "    que se puede considerar como palabras para el calculo\r\n",
    "    de cosine similarity\r\n",
    "    '''\r\n",
    "    \r\n",
    "    genres = string_genres.split('|')\r\n",
    "    answer = []\r\n",
    "    for size in [1,2]:\r\n",
    "        combs = ['Género - ' + '|'.join(sorted(tup))\r\n",
    "                 for tup in combinations(genres, r=size)]\r\n",
    "        answer = answer + combs\r\n",
    "    return sorted(answer)"
   ]
  },
  {
   "cell_type": "code",
   "execution_count": 10,
   "metadata": {},
   "outputs": [
    {
     "output_type": "execute_result",
     "data": {
      "text/plain": [
       "['Género - Animation',\n",
       " 'Género - Animation|Children',\n",
       " 'Género - Animation|Comedy',\n",
       " 'Género - Animation|Fantasy',\n",
       " 'Género - Children',\n",
       " 'Género - Children|Comedy',\n",
       " 'Género - Children|Fantasy',\n",
       " 'Género - Comedy',\n",
       " 'Género - Comedy|Fantasy',\n",
       " 'Género - Fantasy']"
      ]
     },
     "metadata": {},
     "execution_count": 10
    }
   ],
   "source": [
    "tokenizer_genres('Animation|Children|Comedy|Fantasy')"
   ]
  },
  {
   "cell_type": "markdown",
   "metadata": {},
   "source": [
    "Ahora se realizará el conteo, pero en este caso no necesitamos procesar el texto, solo que cuente las combinaciones de géneros comos si de palabras se tratase."
   ]
  },
  {
   "cell_type": "code",
   "execution_count": 11,
   "metadata": {},
   "outputs": [],
   "source": [
    "count_genres = CountVectorizer(tokenizer = tokenizer_genres,\r\n",
    "                               token_pattern = None,\r\n",
    "                               lowercase = False)\r\n",
    "\r\n",
    "count_genres.fit(movies['genres'])\r\n",
    "genres_bow = count_genres.fit_transform(movies['genres']).toarray()\r\n",
    "\r\n",
    "columns_genres = [tup[0] for tup in\r\n",
    "                  sorted(count_genres.vocabulary_.items(),\r\n",
    "                         key = lambda x: x[1])]\r\n",
    "\r\n",
    "genres_bow_df = pd.DataFrame(genres_bow,\r\n",
    "                             columns = columns_genres,\r\n",
    "                             index = movies['title'])"
   ]
  },
  {
   "cell_type": "code",
   "execution_count": 12,
   "metadata": {},
   "outputs": [],
   "source": [
    "arg_gen_bow = np.hstack((arguments_bow, genres_bow))\r\n",
    "\r\n",
    "arg_gen_bow_df = pd.DataFrame(arg_gen_bow,\r\n",
    "                              columns = columns_arguments + columns_genres,\r\n",
    "                              index = movies[\"title\"])"
   ]
  },
  {
   "cell_type": "markdown",
   "metadata": {},
   "source": [
    "Se ha conseguido un *DataFrame* con el Bag-Of-Words de los argumentos y los géneros. Los vectores solo contiene el el número de repeticiones de cada palabra para cada película, realmente esto no representa el peso real de la palabra por lo que se recurre al cálculo de los vectores **TF-IDF**.\r\n",
    "\r\n",
    "En Python, teniendo un *DataFrame* preparado, como el que se tiene, se puede hacer uso de la función ```TfidfTransformer``` de la libreria *Scikit-Learn* para el cálculo de los vectores TF-IDF facilmente."
   ]
  },
  {
   "cell_type": "code",
   "execution_count": 13,
   "metadata": {},
   "outputs": [],
   "source": [
    "tf_idf = TfidfTransformer()\r\n",
    "tf_idf_movies = tf_idf.fit_transform(arg_gen_bow_df).toarray()\r\n",
    "\r\n",
    "tf_idf_movies_df = pd.DataFrame(tf_idf_movies,\r\n",
    "                                columns = columns_arguments + columns_genres,\r\n",
    "                                index = movies[\"title\"])"
   ]
  },
  {
   "cell_type": "markdown",
   "metadata": {},
   "source": [
    "Calculados los vectores TF-IDF se procede al calculo de similaridad entre éstos.\r\n",
    "\r\n",
    "Para calcular la similaridad entre vectores (los vectores TF-IDF que representan a cada una de las películas) se pueden utilizar varias técnicas: distancia euclídea, correlación de Pearson... Pero para vectores TF-IDF la ```cosine similarity``` suele ser la más utilizada, ya que funciona bien en vectores de muchas dimensiones, como los que se tienen.\r\n",
    "\r\n",
    "La cosine similarity define la similaridad en base al coseno del ángulo entre los vectores de las películas. La fórmula del cosine similarity para dos vectores **a** y **b** es:\r\n",
    "\r\n",
    "$$\r\n",
    "cosine \\, sim_{(\\textbf{a},\\textbf{b})} = cos\\, \\theta_{(\\textbf{a},\\textbf{b})} = \\frac{\\textbf{a} \\cdot \\textbf{b}}{\\Vert \\textbf{a} \\Vert \\, \\Vert \\textbf{b}\\Vert} = \\frac{\\sum_{i=1}^n a_i b_i}{\\sqrt{\\sum_{i=1}^n a_i^2} \\, \\sqrt{\\sum_{i=1}^n b_i^2}}\r\n",
    "$$\r\n",
    "\r\n",
    "Donde:\r\n",
    "\r\n",
    "- $n$ es el número de coordenadas/dimensiones de nuestros vectores **a** y **b**\r\n",
    "- $a_i$ y $b_i$ con coordenadas $i$ de los vectores **a** y **b** respectivamente\r\n",
    "\r\n",
    "Puesto que tenemos muchas películas y queremos calcular la similaridad entre todas ellas dos a dos, podemos crear una matriz de cosine similarities con la función ```cosine_similarity``` de Scikit-Learn:\r\n",
    "\r\n"
   ]
  },
  {
   "cell_type": "code",
   "execution_count": 14,
   "metadata": {},
   "outputs": [],
   "source": [
    "cosine_sims = cosine_similarity(tf_idf_movies_df)\r\n",
    "matrix_sims_df = pd.DataFrame(cosine_sims,\r\n",
    "                              index = movies[\"title\"],\r\n",
    "                              columns = movies[\"title\"])"
   ]
  },
  {
   "cell_type": "markdown",
   "metadata": {},
   "source": [
    "Esta matriz/DataFrame tiene las mismas filas que columnas, y cada celda de la misma es la cosine similarity entre la película especificada en la fila y la película especificada en la columna.\r\n",
    "\r\n",
    "Puesto que la cosine similarity siempre está entre 0 y 1 (donde 0 es similaridad nula y 1 es máxima), una película consigo misma siempre tiene cosine similarity de 1.\r\n",
    "\r\n",
    "En cada fila del DataFrame anterior podemos ver la cosine similarity entre una determinada película con todas las demás\r\n",
    "\r\n",
    "Se sustituirán las cosine similarities de cada película consigo misma por NaN; para  que no se tengan en cuenta:"
   ]
  },
  {
   "cell_type": "code",
   "execution_count": 15,
   "metadata": {},
   "outputs": [
    {
     "output_type": "execute_result",
     "data": {
      "text/plain": [
       "title                               Toy Story (1995)  Jumanji (1995)  \\\n",
       "title                                                                  \n",
       "Toy Story (1995)                                 NaN        0.142501   \n",
       "Jumanji (1995)                              0.142501             NaN   \n",
       "Grumpier Old Men (1995)                     0.023003        0.000000   \n",
       "Waiting to Exhale (1995)                    0.006340        0.000000   \n",
       "Father of the Bride Part II (1995)          0.006258        0.000000   \n",
       "\n",
       "title                               Grumpier Old Men (1995)  \\\n",
       "title                                                         \n",
       "Toy Story (1995)                                   0.023003   \n",
       "Jumanji (1995)                                     0.000000   \n",
       "Grumpier Old Men (1995)                                 NaN   \n",
       "Waiting to Exhale (1995)                           0.039387   \n",
       "Father of the Bride Part II (1995)                 0.006378   \n",
       "\n",
       "title                               Waiting to Exhale (1995)  \\\n",
       "title                                                          \n",
       "Toy Story (1995)                                    0.006340   \n",
       "Jumanji (1995)                                      0.000000   \n",
       "Grumpier Old Men (1995)                             0.039387   \n",
       "Waiting to Exhale (1995)                                 NaN   \n",
       "Father of the Bride Part II (1995)                  0.007548   \n",
       "\n",
       "title                               Father of the Bride Part II (1995)  \\\n",
       "title                                                                    \n",
       "Toy Story (1995)                                              0.006258   \n",
       "Jumanji (1995)                                                0.000000   \n",
       "Grumpier Old Men (1995)                                       0.006378   \n",
       "Waiting to Exhale (1995)                                      0.007548   \n",
       "Father of the Bride Part II (1995)                                 NaN   \n",
       "\n",
       "title                               Heat (1995)  Sabrina (1995)  \\\n",
       "title                                                             \n",
       "Toy Story (1995)                       0.000000        0.005630   \n",
       "Jumanji (1995)                         0.000000        0.000000   \n",
       "Grumpier Old Men (1995)                0.000000        0.034972   \n",
       "Waiting to Exhale (1995)               0.000000        0.041385   \n",
       "Father of the Bride Part II (1995)     0.060354        0.006702   \n",
       "\n",
       "title                               Tom and Huck (1995)  Sudden Death (1995)  \\\n",
       "title                                                                          \n",
       "Toy Story (1995)                               0.076392             0.000000   \n",
       "Jumanji (1995)                                 0.127335             0.103491   \n",
       "Grumpier Old Men (1995)                        0.000000             0.000000   \n",
       "Waiting to Exhale (1995)                       0.000000             0.000000   \n",
       "Father of the Bride Part II (1995)             0.000000             0.000000   \n",
       "\n",
       "title                               GoldenEye (1995)  ...  \\\n",
       "title                                                 ...   \n",
       "Toy Story (1995)                            0.011483  ...   \n",
       "Jumanji (1995)                              0.044095  ...   \n",
       "Grumpier Old Men (1995)                     0.000000  ...   \n",
       "Waiting to Exhale (1995)                    0.044127  ...   \n",
       "Father of the Bride Part II (1995)          0.000000  ...   \n",
       "\n",
       "title                               Gintama: The Movie (2010)  \\\n",
       "title                                                           \n",
       "Toy Story (1995)                                     0.056961   \n",
       "Jumanji (1995)                                       0.017364   \n",
       "Grumpier Old Men (1995)                              0.005669   \n",
       "Waiting to Exhale (1995)                             0.006709   \n",
       "Father of the Bride Part II (1995)                   0.006622   \n",
       "\n",
       "title                               anohana: The Flower We Saw That Day - The Movie (2013)  \\\n",
       "title                                                                                        \n",
       "Toy Story (1995)                                                             0.022768        \n",
       "Jumanji (1995)                                                               0.000000        \n",
       "Grumpier Old Men (1995)                                                      0.000000        \n",
       "Waiting to Exhale (1995)                                                     0.006286        \n",
       "Father of the Bride Part II (1995)                                           0.029766        \n",
       "\n",
       "title                               Silver Spoon (2014)  \\\n",
       "title                                                     \n",
       "Toy Story (1995)                               0.007022   \n",
       "Jumanji (1995)                                 0.021923   \n",
       "Grumpier Old Men (1995)                        0.007158   \n",
       "Waiting to Exhale (1995)                       0.039319   \n",
       "Father of the Bride Part II (1995)             0.083754   \n",
       "\n",
       "title                               Love Live! The School Idol Movie (2015)  \\\n",
       "title                                                                         \n",
       "Toy Story (1995)                                                   0.019441   \n",
       "Jumanji (1995)                                                     0.000000   \n",
       "Grumpier Old Men (1995)                                            0.000000   \n",
       "Waiting to Exhale (1995)                                           0.036984   \n",
       "Father of the Bride Part II (1995)                                 0.000000   \n",
       "\n",
       "title                               Jon Stewart Has Left the Building (2015)  \\\n",
       "title                                                                          \n",
       "Toy Story (1995)                                                    0.000000   \n",
       "Jumanji (1995)                                                      0.055704   \n",
       "Grumpier Old Men (1995)                                             0.000000   \n",
       "Waiting to Exhale (1995)                                            0.000000   \n",
       "Father of the Bride Part II (1995)                                  0.000000   \n",
       "\n",
       "title                               Black Butler: Book of the Atlantic (2017)  \\\n",
       "title                                                                           \n",
       "Toy Story (1995)                                                     0.134400   \n",
       "Jumanji (1995)                                                       0.077386   \n",
       "Grumpier Old Men (1995)                                              0.005396   \n",
       "Waiting to Exhale (1995)                                             0.006385   \n",
       "Father of the Bride Part II (1995)                                   0.006302   \n",
       "\n",
       "title                               No Game No Life: Zero (2017)  \\\n",
       "title                                                              \n",
       "Toy Story (1995)                                        0.170625   \n",
       "Jumanji (1995)                                          0.041150   \n",
       "Grumpier Old Men (1995)                                 0.026032   \n",
       "Waiting to Exhale (1995)                                0.131024   \n",
       "Father of the Bride Part II (1995)                      0.007082   \n",
       "\n",
       "title                               Flint (2017)  \\\n",
       "title                                              \n",
       "Toy Story (1995)                        0.000000   \n",
       "Jumanji (1995)                          0.000000   \n",
       "Grumpier Old Men (1995)                 0.000000   \n",
       "Waiting to Exhale (1995)                0.007376   \n",
       "Father of the Bride Part II (1995)      0.064036   \n",
       "\n",
       "title                               Bungo Stray Dogs: Dead Apple (2018)  \\\n",
       "title                                                                     \n",
       "Toy Story (1995)                                               0.021156   \n",
       "Jumanji (1995)                                                 0.000000   \n",
       "Grumpier Old Men (1995)                                        0.000000   \n",
       "Waiting to Exhale (1995)                                       0.000000   \n",
       "Father of the Bride Part II (1995)                             0.000000   \n",
       "\n",
       "title                               Andrew Dice Clay: Dice Rules (1991)  \n",
       "title                                                                    \n",
       "Toy Story (1995)                                               0.004312  \n",
       "Jumanji (1995)                                                 0.000000  \n",
       "Grumpier Old Men (1995)                                        0.123431  \n",
       "Waiting to Exhale (1995)                                       0.005201  \n",
       "Father of the Bride Part II (1995)                             0.005134  \n",
       "\n",
       "[5 rows x 9732 columns]"
      ],
      "text/html": "<div>\n<style scoped>\n    .dataframe tbody tr th:only-of-type {\n        vertical-align: middle;\n    }\n\n    .dataframe tbody tr th {\n        vertical-align: top;\n    }\n\n    .dataframe thead th {\n        text-align: right;\n    }\n</style>\n<table border=\"1\" class=\"dataframe\">\n  <thead>\n    <tr style=\"text-align: right;\">\n      <th>title</th>\n      <th>Toy Story (1995)</th>\n      <th>Jumanji (1995)</th>\n      <th>Grumpier Old Men (1995)</th>\n      <th>Waiting to Exhale (1995)</th>\n      <th>Father of the Bride Part II (1995)</th>\n      <th>Heat (1995)</th>\n      <th>Sabrina (1995)</th>\n      <th>Tom and Huck (1995)</th>\n      <th>Sudden Death (1995)</th>\n      <th>GoldenEye (1995)</th>\n      <th>...</th>\n      <th>Gintama: The Movie (2010)</th>\n      <th>anohana: The Flower We Saw That Day - The Movie (2013)</th>\n      <th>Silver Spoon (2014)</th>\n      <th>Love Live! The School Idol Movie (2015)</th>\n      <th>Jon Stewart Has Left the Building (2015)</th>\n      <th>Black Butler: Book of the Atlantic (2017)</th>\n      <th>No Game No Life: Zero (2017)</th>\n      <th>Flint (2017)</th>\n      <th>Bungo Stray Dogs: Dead Apple (2018)</th>\n      <th>Andrew Dice Clay: Dice Rules (1991)</th>\n    </tr>\n    <tr>\n      <th>title</th>\n      <th></th>\n      <th></th>\n      <th></th>\n      <th></th>\n      <th></th>\n      <th></th>\n      <th></th>\n      <th></th>\n      <th></th>\n      <th></th>\n      <th></th>\n      <th></th>\n      <th></th>\n      <th></th>\n      <th></th>\n      <th></th>\n      <th></th>\n      <th></th>\n      <th></th>\n      <th></th>\n      <th></th>\n    </tr>\n  </thead>\n  <tbody>\n    <tr>\n      <th>Toy Story (1995)</th>\n      <td>NaN</td>\n      <td>0.142501</td>\n      <td>0.023003</td>\n      <td>0.006340</td>\n      <td>0.006258</td>\n      <td>0.000000</td>\n      <td>0.005630</td>\n      <td>0.076392</td>\n      <td>0.000000</td>\n      <td>0.011483</td>\n      <td>...</td>\n      <td>0.056961</td>\n      <td>0.022768</td>\n      <td>0.007022</td>\n      <td>0.019441</td>\n      <td>0.000000</td>\n      <td>0.134400</td>\n      <td>0.170625</td>\n      <td>0.000000</td>\n      <td>0.021156</td>\n      <td>0.004312</td>\n    </tr>\n    <tr>\n      <th>Jumanji (1995)</th>\n      <td>0.142501</td>\n      <td>NaN</td>\n      <td>0.000000</td>\n      <td>0.000000</td>\n      <td>0.000000</td>\n      <td>0.000000</td>\n      <td>0.000000</td>\n      <td>0.127335</td>\n      <td>0.103491</td>\n      <td>0.044095</td>\n      <td>...</td>\n      <td>0.017364</td>\n      <td>0.000000</td>\n      <td>0.021923</td>\n      <td>0.000000</td>\n      <td>0.055704</td>\n      <td>0.077386</td>\n      <td>0.041150</td>\n      <td>0.000000</td>\n      <td>0.000000</td>\n      <td>0.000000</td>\n    </tr>\n    <tr>\n      <th>Grumpier Old Men (1995)</th>\n      <td>0.023003</td>\n      <td>0.000000</td>\n      <td>NaN</td>\n      <td>0.039387</td>\n      <td>0.006378</td>\n      <td>0.000000</td>\n      <td>0.034972</td>\n      <td>0.000000</td>\n      <td>0.000000</td>\n      <td>0.000000</td>\n      <td>...</td>\n      <td>0.005669</td>\n      <td>0.000000</td>\n      <td>0.007158</td>\n      <td>0.000000</td>\n      <td>0.000000</td>\n      <td>0.005396</td>\n      <td>0.026032</td>\n      <td>0.000000</td>\n      <td>0.000000</td>\n      <td>0.123431</td>\n    </tr>\n    <tr>\n      <th>Waiting to Exhale (1995)</th>\n      <td>0.006340</td>\n      <td>0.000000</td>\n      <td>0.039387</td>\n      <td>NaN</td>\n      <td>0.007548</td>\n      <td>0.000000</td>\n      <td>0.041385</td>\n      <td>0.000000</td>\n      <td>0.000000</td>\n      <td>0.044127</td>\n      <td>...</td>\n      <td>0.006709</td>\n      <td>0.006286</td>\n      <td>0.039319</td>\n      <td>0.036984</td>\n      <td>0.000000</td>\n      <td>0.006385</td>\n      <td>0.131024</td>\n      <td>0.007376</td>\n      <td>0.000000</td>\n      <td>0.005201</td>\n    </tr>\n    <tr>\n      <th>Father of the Bride Part II (1995)</th>\n      <td>0.006258</td>\n      <td>0.000000</td>\n      <td>0.006378</td>\n      <td>0.007548</td>\n      <td>NaN</td>\n      <td>0.060354</td>\n      <td>0.006702</td>\n      <td>0.000000</td>\n      <td>0.000000</td>\n      <td>0.000000</td>\n      <td>...</td>\n      <td>0.006622</td>\n      <td>0.029766</td>\n      <td>0.083754</td>\n      <td>0.000000</td>\n      <td>0.000000</td>\n      <td>0.006302</td>\n      <td>0.007082</td>\n      <td>0.064036</td>\n      <td>0.000000</td>\n      <td>0.005134</td>\n    </tr>\n  </tbody>\n</table>\n<p>5 rows × 9732 columns</p>\n</div>"
     },
     "metadata": {},
     "execution_count": 15
    }
   ],
   "source": [
    "np.fill_diagonal(matrix_sims_df.values, np.nan)\r\n",
    "matrix_sims_df.head()"
   ]
  },
  {
   "cell_type": "markdown",
   "metadata": {},
   "source": [
    "Ya se puede, por tanto, buscar las películas más similares a cualquiera del dataset de películas. Simplemente se ha de buscar en la fila correspondiente a la película de la que se quiera encontrar las más similares; buscando las **$K$** películas con mayor cosine similarity con ella.\r\n",
    "\r\n",
    "Para acelerar los cálculos, se generarán dos *arrays*:\r\n",
    "\r\n",
    "- ```order_movies_csim_row```: Array donde cada fila representa los indices de las peliculas ordenadas segun la similitud que tienen con la pelicula elegida.\r\n",
    "\r\n",
    "- ```order_csim_row```: Array donde cada fila representa la cosine similarity de las peliculas ordenadas de mayor a menor similitud."
   ]
  },
  {
   "cell_type": "code",
   "execution_count": 16,
   "metadata": {},
   "outputs": [
    {
     "output_type": "execute_result",
     "data": {
      "text/plain": [
       "array([2998, 2353, 7351, ..., 3826, 7020,    0], dtype=int64)"
      ]
     },
     "metadata": {},
     "execution_count": 16
    }
   ],
   "source": [
    "order_movies_csim_row = np.argsort(-cosine_sims, axis=1)\r\n",
    "order_movies_csim_row[0]"
   ]
  },
  {
   "cell_type": "code",
   "execution_count": 17,
   "metadata": {},
   "outputs": [
    {
     "output_type": "execute_result",
     "data": {
      "text/plain": [
       "array([0.40397622, 0.39966961, 0.3888024 , ..., 0.        , 0.        ,\n",
       "              nan])"
      ]
     },
     "metadata": {},
     "execution_count": 17
    }
   ],
   "source": [
    "order_csim_row = -np.sort(-cosine_sims, axis=1)\r\n",
    "order_csim_row[0]"
   ]
  },
  {
   "cell_type": "markdown",
   "metadata": {},
   "source": [
    "Con estas dos matrices ```(order_movies_csim_row y order_csim_row)``` podemos ya calcular muy fácilmente qué películas son las más similares a una cualquiera, y cuáles son los valores de dichas similaridades.\r\n",
    "\r\n",
    "Para hacerlo más fácil, vamos a crear una función que tome como argumentos un movieId y un número $k$, y devuelva el listado de las top $k$ películas más similares a ella:"
   ]
  },
  {
   "cell_type": "code",
   "execution_count": 18,
   "metadata": {},
   "outputs": [],
   "source": [
    "def top_k_sim(movieId, k):\r\n",
    "    \"\"\"\r\n",
    "    Devuelve un DataFrame con el top k\r\n",
    "    de películas más similares a la\r\n",
    "    introducida en el argumento movieId.\r\n",
    "    \"\"\"\r\n",
    "    \r\n",
    "    # Conversión del movieId a el número de fila\r\n",
    "    row_csim = dict_movieid_index[movieId]\r\n",
    "\r\n",
    "    # Selección de valores en las dos matrices y cogemos los top k\r\n",
    "    top_k = order_movies_csim_row[row_csim][:k]\r\n",
    "    csim_top_k = order_csim_row[row_csim][:k]\r\n",
    "    \r\n",
    "    top_k_df = movies.iloc[top_k].copy()\r\n",
    "    top_k_df[\"similaridad\"] = csim_top_k\r\n",
    "    \r\n",
    "    return top_k_df"
   ]
  },
  {
   "cell_type": "code",
   "execution_count": 19,
   "metadata": {},
   "outputs": [
    {
     "output_type": "execute_result",
     "data": {
      "text/plain": [
       "      movieId                                       title  \\\n",
       "2998     4016            Emperor's New Groove, The (2000)   \n",
       "2353     3114                          Toy Story 2 (1999)   \n",
       "7351    78499                          Toy Story 3 (2010)   \n",
       "5084     8015               Phantom Tollbooth, The (1970)   \n",
       "8921   136016                    The Good Dinosaur (2015)   \n",
       "6445    51939  TMNT (Teenage Mutant Ninja Turtles) (2007)   \n",
       "8800   130520                                 Home (2015)   \n",
       "8214   103755                                Turbo (2013)   \n",
       "1704     2294                                 Antz (1998)   \n",
       "9422   166461                                Moana (2016)   \n",
       "\n",
       "                                                 genres  \\\n",
       "2998        Adventure|Animation|Children|Comedy|Fantasy   \n",
       "2353        Adventure|Animation|Children|Comedy|Fantasy   \n",
       "7351   Adventure|Animation|Children|Comedy|Fantasy|IMAX   \n",
       "5084               Adventure|Animation|Children|Fantasy   \n",
       "8921        Adventure|Animation|Children|Comedy|Fantasy   \n",
       "6445  Action|Adventure|Animation|Children|Comedy|Fan...   \n",
       "8800  Adventure|Animation|Children|Comedy|Fantasy|Sc...   \n",
       "8214        Adventure|Animation|Children|Comedy|Fantasy   \n",
       "1704        Adventure|Animation|Children|Comedy|Fantasy   \n",
       "9422        Adventure|Animation|Children|Comedy|Fantasy   \n",
       "\n",
       "                                              argumento  similaridad  \n",
       "2998  Emperor Kuzco is turned into a llama by his ex...     0.403976  \n",
       "2353  When Woody is stolen by a toy collector, Buzz ...     0.399670  \n",
       "7351  The toys are mistakenly delivered to a day-car...     0.388802  \n",
       "5084  Milo is a boy who is bored with life. One day ...     0.386209  \n",
       "8921  In a world where dinosaurs and humans live sid...     0.383690  \n",
       "6445  When the world is threatened by an ancient evi...     0.383128  \n",
       "8800  An alien on the run from his own people makes ...     0.371658  \n",
       "8214  A freak accident might just help an everyday g...     0.366717  \n",
       "1704  A rather neurotic ant tries to break from his ...     0.365829  \n",
       "9422  In Ancient Polynesia, when a terrible curse in...     0.364677  "
      ],
      "text/html": "<div>\n<style scoped>\n    .dataframe tbody tr th:only-of-type {\n        vertical-align: middle;\n    }\n\n    .dataframe tbody tr th {\n        vertical-align: top;\n    }\n\n    .dataframe thead th {\n        text-align: right;\n    }\n</style>\n<table border=\"1\" class=\"dataframe\">\n  <thead>\n    <tr style=\"text-align: right;\">\n      <th></th>\n      <th>movieId</th>\n      <th>title</th>\n      <th>genres</th>\n      <th>argumento</th>\n      <th>similaridad</th>\n    </tr>\n  </thead>\n  <tbody>\n    <tr>\n      <th>2998</th>\n      <td>4016</td>\n      <td>Emperor's New Groove, The (2000)</td>\n      <td>Adventure|Animation|Children|Comedy|Fantasy</td>\n      <td>Emperor Kuzco is turned into a llama by his ex...</td>\n      <td>0.403976</td>\n    </tr>\n    <tr>\n      <th>2353</th>\n      <td>3114</td>\n      <td>Toy Story 2 (1999)</td>\n      <td>Adventure|Animation|Children|Comedy|Fantasy</td>\n      <td>When Woody is stolen by a toy collector, Buzz ...</td>\n      <td>0.399670</td>\n    </tr>\n    <tr>\n      <th>7351</th>\n      <td>78499</td>\n      <td>Toy Story 3 (2010)</td>\n      <td>Adventure|Animation|Children|Comedy|Fantasy|IMAX</td>\n      <td>The toys are mistakenly delivered to a day-car...</td>\n      <td>0.388802</td>\n    </tr>\n    <tr>\n      <th>5084</th>\n      <td>8015</td>\n      <td>Phantom Tollbooth, The (1970)</td>\n      <td>Adventure|Animation|Children|Fantasy</td>\n      <td>Milo is a boy who is bored with life. One day ...</td>\n      <td>0.386209</td>\n    </tr>\n    <tr>\n      <th>8921</th>\n      <td>136016</td>\n      <td>The Good Dinosaur (2015)</td>\n      <td>Adventure|Animation|Children|Comedy|Fantasy</td>\n      <td>In a world where dinosaurs and humans live sid...</td>\n      <td>0.383690</td>\n    </tr>\n    <tr>\n      <th>6445</th>\n      <td>51939</td>\n      <td>TMNT (Teenage Mutant Ninja Turtles) (2007)</td>\n      <td>Action|Adventure|Animation|Children|Comedy|Fan...</td>\n      <td>When the world is threatened by an ancient evi...</td>\n      <td>0.383128</td>\n    </tr>\n    <tr>\n      <th>8800</th>\n      <td>130520</td>\n      <td>Home (2015)</td>\n      <td>Adventure|Animation|Children|Comedy|Fantasy|Sc...</td>\n      <td>An alien on the run from his own people makes ...</td>\n      <td>0.371658</td>\n    </tr>\n    <tr>\n      <th>8214</th>\n      <td>103755</td>\n      <td>Turbo (2013)</td>\n      <td>Adventure|Animation|Children|Comedy|Fantasy</td>\n      <td>A freak accident might just help an everyday g...</td>\n      <td>0.366717</td>\n    </tr>\n    <tr>\n      <th>1704</th>\n      <td>2294</td>\n      <td>Antz (1998)</td>\n      <td>Adventure|Animation|Children|Comedy|Fantasy</td>\n      <td>A rather neurotic ant tries to break from his ...</td>\n      <td>0.365829</td>\n    </tr>\n    <tr>\n      <th>9422</th>\n      <td>166461</td>\n      <td>Moana (2016)</td>\n      <td>Adventure|Animation|Children|Comedy|Fantasy</td>\n      <td>In Ancient Polynesia, when a terrible curse in...</td>\n      <td>0.364677</td>\n    </tr>\n  </tbody>\n</table>\n</div>"
     },
     "metadata": {},
     "execution_count": 19
    }
   ],
   "source": [
    "top_k_sim(1, k=10)"
   ]
  },
  {
   "cell_type": "markdown",
   "metadata": {},
   "source": [
    "## RecSys Personalizado"
   ]
  },
  {
   "cell_type": "markdown",
   "metadata": {},
   "source": [
    "Se puede ir un paso más allá, el recomendador anterior no es un sistema de recomendación personalizado, por lo que no tiene en cuenta las preferencias de un usuario. Se limita a mostrar películas similares a una elegida, y éstas siempre son las mismas para cualquier usuario y no tiene en cuenta las preferencias personales.\r\n",
    "\r\n",
    "Se puede convertir sencillamente el recomendador anterior en un sistema de recomendación personalizado:\r\n",
    "\r\n",
    "> Si tenemos un listado de los ratings (de 1-5) que ha dado un usuario a varias películas, podemos recomendar películas que mejor combinen el contenido que le gusta a dicho usuario\r\n",
    "\r\n",
    "La manera más útil de realizar ésto es estimando el *rating* que le daría el usuario a todas las peliculas del catálogo, y ordenándolas de mayor a menor.\r\n",
    "\r\n",
    "La fórmula más utilizada en la literatura sobre sistemas de recomendación para estimar el rating $\\hat{r}$ que le daría un usuario $u$ a una película $pel$ podemos representarlo como $\\hat{r}_{u,pel}$, y podemos calcularlo como:\r\n",
    "\r\n",
    "$$\r\n",
    "\\hat{r}_{u,pel} = \\frac{\\sum_{otrapel \\in VeRat} sim_{(pel, otrapel)} \\times r_{u, otrapel}}{\\sum_{otrapel \\in VeRat} sim_{(pel, otrapel)}}\r\n",
    "$$\r\n",
    "\r\n",
    "Donde:\r\n",
    "\r\n",
    "- $VeRat$ es la lista de las $K$ peliculas más similares a $pel$ y que han sido *rateadas* (puntuadas) por el usuario $u$\r\n",
    "\r\n",
    "- $r_{(u, otrapel)}$ es el rating que nuestro usuario $u$ le ha dado a la película $otrapel$; que es cada una de las que pertenece a $VeRat$\r\n",
    "\r\n",
    "- $sim_{(pel, otrapel)}$ es la cosine similarity entre $pel$ y $otrapel$\r\n",
    "\r\n",
    "Así que básicamente consiste en ponderar la puntuación de las películas más similares (vecinas) a la que queremos estimar, en base a cómo de similar es cada vecina a la que buscamos.\r\n",
    "\r\n",
    "Para realizar y testear el nuevo recomendador se creará un un rating ficticio de un usuario llamado rex."
   ]
  },
  {
   "cell_type": "code",
   "execution_count": 36,
   "metadata": {},
   "outputs": [
    {
     "output_type": "execute_result",
     "data": {
      "text/plain": [
       "   movieId  rating                             title  \\\n",
       "0        1       5                  Toy Story (1995)   \n",
       "1   106696       3                     Frozen (2013)   \n",
       "2     1240       5            Terminator, The (1984)   \n",
       "3     1580       5  Men in Black (a.k.a. MIB) (1997)   \n",
       "4      597       1               Pretty Woman (1990)   \n",
       "\n",
       "                                              genres  \\\n",
       "0        Adventure|Animation|Children|Comedy|Fantasy   \n",
       "1  Adventure|Animation|Comedy|Fantasy|Musical|Rom...   \n",
       "2                             Action|Sci-Fi|Thriller   \n",
       "3                               Action|Comedy|Sci-Fi   \n",
       "4                                     Comedy|Romance   \n",
       "\n",
       "                                           argumento  \n",
       "0  A cowboy doll is profoundly threatened and jea...  \n",
       "1  When the newly crowned Queen Elsa accidentally...  \n",
       "2  A human soldier is sent from 2029 to 1984 to s...  \n",
       "3  A police officer joins a secret organization t...  \n",
       "4  A man in a legal but hurtful business needs an...  "
      ],
      "text/html": "<div>\n<style scoped>\n    .dataframe tbody tr th:only-of-type {\n        vertical-align: middle;\n    }\n\n    .dataframe tbody tr th {\n        vertical-align: top;\n    }\n\n    .dataframe thead th {\n        text-align: right;\n    }\n</style>\n<table border=\"1\" class=\"dataframe\">\n  <thead>\n    <tr style=\"text-align: right;\">\n      <th></th>\n      <th>movieId</th>\n      <th>rating</th>\n      <th>title</th>\n      <th>genres</th>\n      <th>argumento</th>\n    </tr>\n  </thead>\n  <tbody>\n    <tr>\n      <th>0</th>\n      <td>1</td>\n      <td>5</td>\n      <td>Toy Story (1995)</td>\n      <td>Adventure|Animation|Children|Comedy|Fantasy</td>\n      <td>A cowboy doll is profoundly threatened and jea...</td>\n    </tr>\n    <tr>\n      <th>1</th>\n      <td>106696</td>\n      <td>3</td>\n      <td>Frozen (2013)</td>\n      <td>Adventure|Animation|Comedy|Fantasy|Musical|Rom...</td>\n      <td>When the newly crowned Queen Elsa accidentally...</td>\n    </tr>\n    <tr>\n      <th>2</th>\n      <td>1240</td>\n      <td>5</td>\n      <td>Terminator, The (1984)</td>\n      <td>Action|Sci-Fi|Thriller</td>\n      <td>A human soldier is sent from 2029 to 1984 to s...</td>\n    </tr>\n    <tr>\n      <th>3</th>\n      <td>1580</td>\n      <td>5</td>\n      <td>Men in Black (a.k.a. MIB) (1997)</td>\n      <td>Action|Comedy|Sci-Fi</td>\n      <td>A police officer joins a secret organization t...</td>\n    </tr>\n    <tr>\n      <th>4</th>\n      <td>597</td>\n      <td>1</td>\n      <td>Pretty Woman (1990)</td>\n      <td>Comedy|Romance</td>\n      <td>A man in a legal but hurtful business needs an...</td>\n    </tr>\n  </tbody>\n</table>\n</div>"
     },
     "metadata": {},
     "execution_count": 36
    }
   ],
   "source": [
    "rex = pd.DataFrame({'movieId': [1, 106696, 1240, 1580, 597],\n",
    "                    'rating': [5, 3, 5, 5, 1]})\n",
    "\n",
    "view_rex = rex.merge(movies,\n",
    "                     how = 'inner',\n",
    "                     on = 'movieId')\n",
    "\n",
    "view_rex"
   ]
  },
  {
   "source": [
    "Se implementará la técnica de rating expuesta antes en base a: \n",
    "\n",
    "- El listado de ratings que un usuario ha dado a varias peliculas.\n",
    "\n",
    "- La película que se estimará\n",
    "\n",
    "- Un número $k$ de películas más similares \n",
    "\n",
    "Para generar una estimación de rating.\n",
    "\n",
    "Para el cálculo de las películas vecinas (más similares) se hará con $K = 30$, que serán las *top 30* de peliculas mas similares del catálogo."
   ],
   "cell_type": "markdown",
   "metadata": {}
  },
  {
   "cell_type": "code",
   "execution_count": 37,
   "metadata": {},
   "outputs": [],
   "source": [
    "def estimate_rating(ratings_us, movie, movies_neighbors = 60):\n",
    "    \"\"\"\n",
    "    Estima el rating que un usuario (descrito por un \n",
    "    DataFrame con las películas que ha visto y el\n",
    "    rating que les ha dado) le daría a una película\n",
    "    cualquiera (con su movieId).\n",
    "    \"\"\"\n",
    "    \n",
    "    # Para obtener las top películas vecinas a la que se quiere estimar, \n",
    "    # se puede usar directamente la función top_k_sim, usada en el anterior recomendador:\n",
    "    top_neigbrs_movies = (top_k_sim(movie, movies_neighbors)[[\"movieId\", \"similaridad\"]])\n",
    "    \n",
    "    # De todas las películas vecinas, probablemente el usuario solo haya \n",
    "    # rateado algunas; así que se aplicará un filtro:\n",
    "    movies_neighbors_rateds = ratings_us.merge(top_neigbrs_movies,\n",
    "                                               how=\"inner\",\n",
    "                                               on=[\"movieId\"])\n",
    "    \n",
    "    # Si el usuario solo ha rateado una (o ninguna),\n",
    "    # la estimación será muy pobre; por lo que, siendo conservador,\n",
    "    # no se estima nada (devuelve un NaN como estimación)\n",
    "    if len(movies_neighbors_rateds) < 2:\n",
    "        return np.nan\n",
    "    \n",
    "    # Formula estimación rating\n",
    "    rating_ = (movies_neighbors_rateds[\"rating\"] * movies_neighbors_rateds[\"similaridad\"]).sum()\n",
    "    _rating = movies_neighbors_rateds[\"similaridad\"].sum()\n",
    "    \n",
    "    return rating_ / _rating"
   ]
  },
  {
   "source": [
    "Comprobación de la función anterior"
   ],
   "cell_type": "markdown",
   "metadata": {}
  },
  {
   "cell_type": "code",
   "execution_count": 38,
   "metadata": {},
   "outputs": [
    {
     "output_type": "execute_result",
     "data": {
      "text/plain": [
       "      movieId         title  \\\n",
       "3192     4306  Shrek (2001)   \n",
       "\n",
       "                                                 genres  \\\n",
       "3192  Adventure|Animation|Children|Comedy|Fantasy|Ro...   \n",
       "\n",
       "                                              argumento  \n",
       "3192  A mean lord exiles fairytale creatures to the ...  "
      ],
      "text/html": "<div>\n<style scoped>\n    .dataframe tbody tr th:only-of-type {\n        vertical-align: middle;\n    }\n\n    .dataframe tbody tr th {\n        vertical-align: top;\n    }\n\n    .dataframe thead th {\n        text-align: right;\n    }\n</style>\n<table border=\"1\" class=\"dataframe\">\n  <thead>\n    <tr style=\"text-align: right;\">\n      <th></th>\n      <th>movieId</th>\n      <th>title</th>\n      <th>genres</th>\n      <th>argumento</th>\n    </tr>\n  </thead>\n  <tbody>\n    <tr>\n      <th>3192</th>\n      <td>4306</td>\n      <td>Shrek (2001)</td>\n      <td>Adventure|Animation|Children|Comedy|Fantasy|Ro...</td>\n      <td>A mean lord exiles fairytale creatures to the ...</td>\n    </tr>\n  </tbody>\n</table>\n</div>"
     },
     "metadata": {},
     "execution_count": 38
    }
   ],
   "source": [
    "# Comprobación de la función anterior\n",
    "movies[movies.movieId == 4306]"
   ]
  },
  {
   "cell_type": "code",
   "execution_count": 39,
   "metadata": {},
   "outputs": [
    {
     "output_type": "execute_result",
     "data": {
      "text/plain": [
       "4.091089395169319"
      ]
     },
     "metadata": {},
     "execution_count": 39
    }
   ],
   "source": [
    "estimate_rating(rex, 4306)"
   ]
  },
  {
   "source": [
    "Ahora se recomendarán 10 peículas a Rex en base a sus gustos. Para ellos, se estimará el arating que le daría Rex a todas las peliculas del catálogo, y ordenando de mayor a menor"
   ],
   "cell_type": "markdown",
   "metadata": {}
  },
  {
   "cell_type": "code",
   "execution_count": 40,
   "metadata": {},
   "outputs": [],
   "source": [
    "def recp_us(ratings_us, n=10):\n",
    "    \"\"\"\n",
    "    Sistema de recomendación personalizado basado\n",
    "    en contenido.\n",
    "    \"\"\"\n",
    "    \n",
    "    # Se quitan las que ya ha visto\n",
    "    no_view_movies = ( movies[ ~movies['movieId'].isin(ratings_us['movieId']) ].copy() )\n",
    "    \n",
    "    # Estimación del rating dado por el usuario al resto de películas:\n",
    "    no_view_movies[\"estimated rating\"] = (no_view_movies[\"movieId\"]\n",
    "                                          .apply(lambda x: estimate_rating(ratings_us, x)))\n",
    "    \n",
    "    # Ordenar las películas de mayor a menor rating estimado:\n",
    "    list_order_to_user = (no_view_movies\n",
    "                          .dropna(subset=[\"estimated rating\"])\n",
    "                          .sort_values(by=\"estimated rating\", ascending=False)\n",
    "                          [:n])\n",
    "\n",
    "    return list_order_to_user"
   ]
  },
  {
   "cell_type": "code",
   "execution_count": 41,
   "metadata": {},
   "outputs": [
    {
     "output_type": "execute_result",
     "data": {
      "text/plain": [
       "   movieId  rating                             title  \\\n",
       "0        1       5                  Toy Story (1995)   \n",
       "1   106696       3                     Frozen (2013)   \n",
       "2     1240       5            Terminator, The (1984)   \n",
       "3     1580       5  Men in Black (a.k.a. MIB) (1997)   \n",
       "4      597       1               Pretty Woman (1990)   \n",
       "\n",
       "                                              genres  \\\n",
       "0        Adventure|Animation|Children|Comedy|Fantasy   \n",
       "1  Adventure|Animation|Comedy|Fantasy|Musical|Rom...   \n",
       "2                             Action|Sci-Fi|Thriller   \n",
       "3                               Action|Comedy|Sci-Fi   \n",
       "4                                     Comedy|Romance   \n",
       "\n",
       "                                           argumento  \n",
       "0  A cowboy doll is profoundly threatened and jea...  \n",
       "1  When the newly crowned Queen Elsa accidentally...  \n",
       "2  A human soldier is sent from 2029 to 1984 to s...  \n",
       "3  A police officer joins a secret organization t...  \n",
       "4  A man in a legal but hurtful business needs an...  "
      ],
      "text/html": "<div>\n<style scoped>\n    .dataframe tbody tr th:only-of-type {\n        vertical-align: middle;\n    }\n\n    .dataframe tbody tr th {\n        vertical-align: top;\n    }\n\n    .dataframe thead th {\n        text-align: right;\n    }\n</style>\n<table border=\"1\" class=\"dataframe\">\n  <thead>\n    <tr style=\"text-align: right;\">\n      <th></th>\n      <th>movieId</th>\n      <th>rating</th>\n      <th>title</th>\n      <th>genres</th>\n      <th>argumento</th>\n    </tr>\n  </thead>\n  <tbody>\n    <tr>\n      <th>0</th>\n      <td>1</td>\n      <td>5</td>\n      <td>Toy Story (1995)</td>\n      <td>Adventure|Animation|Children|Comedy|Fantasy</td>\n      <td>A cowboy doll is profoundly threatened and jea...</td>\n    </tr>\n    <tr>\n      <th>1</th>\n      <td>106696</td>\n      <td>3</td>\n      <td>Frozen (2013)</td>\n      <td>Adventure|Animation|Comedy|Fantasy|Musical|Rom...</td>\n      <td>When the newly crowned Queen Elsa accidentally...</td>\n    </tr>\n    <tr>\n      <th>2</th>\n      <td>1240</td>\n      <td>5</td>\n      <td>Terminator, The (1984)</td>\n      <td>Action|Sci-Fi|Thriller</td>\n      <td>A human soldier is sent from 2029 to 1984 to s...</td>\n    </tr>\n    <tr>\n      <th>3</th>\n      <td>1580</td>\n      <td>5</td>\n      <td>Men in Black (a.k.a. MIB) (1997)</td>\n      <td>Action|Comedy|Sci-Fi</td>\n      <td>A police officer joins a secret organization t...</td>\n    </tr>\n    <tr>\n      <th>4</th>\n      <td>597</td>\n      <td>1</td>\n      <td>Pretty Woman (1990)</td>\n      <td>Comedy|Romance</td>\n      <td>A man in a legal but hurtful business needs an...</td>\n    </tr>\n  </tbody>\n</table>\n</div>"
     },
     "metadata": {},
     "execution_count": 41
    }
   ],
   "source": [
    "view_rex"
   ]
  },
  {
   "cell_type": "code",
   "execution_count": 43,
   "metadata": {},
   "outputs": [
    {
     "output_type": "execute_result",
     "data": {
      "text/plain": [
       "      movieId                    title  \\\n",
       "2932     3937           Runaway (1984)   \n",
       "7116    71057                 9 (2009)   \n",
       "8197   103341  World's End, The (2013)   \n",
       "9677   184053     Battle Planet (2008)   \n",
       "9422   166461             Moana (2016)   \n",
       "6912    64249   Shrek the Halls (2007)   \n",
       "3192     4306             Shrek (2001)   \n",
       "7526    84637   Gnomeo & Juliet (2011)   \n",
       "8992   139855         Anomalisa (2015)   \n",
       "7956    96281        ParaNorman (2012)   \n",
       "\n",
       "                                                 genres  \\\n",
       "2932                                    Sci-Fi|Thriller   \n",
       "7116                         Adventure|Animation|Sci-Fi   \n",
       "8197                               Action|Comedy|Sci-Fi   \n",
       "9677                                      Action|Sci-Fi   \n",
       "9422        Adventure|Animation|Children|Comedy|Fantasy   \n",
       "6912                 Adventure|Animation|Comedy|Fantasy   \n",
       "3192  Adventure|Animation|Children|Comedy|Fantasy|Ro...   \n",
       "7526  Adventure|Animation|Children|Comedy|Fantasy|Ro...   \n",
       "8992                           Animation|Comedy|Fantasy   \n",
       "7956                         Adventure|Animation|Comedy   \n",
       "\n",
       "                                              argumento  estimated rating  \n",
       "2932  In the near future, a police officer specializ...          5.000000  \n",
       "7116  A rag doll that awakens in a postapocalyptic f...          5.000000  \n",
       "8197  Five friends who reunite in an attempt to top ...          5.000000  \n",
       "9677  In the not-so-distant future, Captain Jordan S...          5.000000  \n",
       "9422  In Ancient Polynesia, when a terrible curse in...          4.179955  \n",
       "6912  This half-hour animated TV special features th...          4.131361  \n",
       "3192  A mean lord exiles fairytale creatures to the ...          4.091089  \n",
       "7526  Separated by a garden fence and a feud, are bl...          4.091089  \n",
       "8992  A man crippled by the mundanity of his life ex...          4.074565  \n",
       "7956  A misunderstood boy takes on ghosts, zombies a...          4.036607  "
      ],
      "text/html": "<div>\n<style scoped>\n    .dataframe tbody tr th:only-of-type {\n        vertical-align: middle;\n    }\n\n    .dataframe tbody tr th {\n        vertical-align: top;\n    }\n\n    .dataframe thead th {\n        text-align: right;\n    }\n</style>\n<table border=\"1\" class=\"dataframe\">\n  <thead>\n    <tr style=\"text-align: right;\">\n      <th></th>\n      <th>movieId</th>\n      <th>title</th>\n      <th>genres</th>\n      <th>argumento</th>\n      <th>estimated rating</th>\n    </tr>\n  </thead>\n  <tbody>\n    <tr>\n      <th>2932</th>\n      <td>3937</td>\n      <td>Runaway (1984)</td>\n      <td>Sci-Fi|Thriller</td>\n      <td>In the near future, a police officer specializ...</td>\n      <td>5.000000</td>\n    </tr>\n    <tr>\n      <th>7116</th>\n      <td>71057</td>\n      <td>9 (2009)</td>\n      <td>Adventure|Animation|Sci-Fi</td>\n      <td>A rag doll that awakens in a postapocalyptic f...</td>\n      <td>5.000000</td>\n    </tr>\n    <tr>\n      <th>8197</th>\n      <td>103341</td>\n      <td>World's End, The (2013)</td>\n      <td>Action|Comedy|Sci-Fi</td>\n      <td>Five friends who reunite in an attempt to top ...</td>\n      <td>5.000000</td>\n    </tr>\n    <tr>\n      <th>9677</th>\n      <td>184053</td>\n      <td>Battle Planet (2008)</td>\n      <td>Action|Sci-Fi</td>\n      <td>In the not-so-distant future, Captain Jordan S...</td>\n      <td>5.000000</td>\n    </tr>\n    <tr>\n      <th>9422</th>\n      <td>166461</td>\n      <td>Moana (2016)</td>\n      <td>Adventure|Animation|Children|Comedy|Fantasy</td>\n      <td>In Ancient Polynesia, when a terrible curse in...</td>\n      <td>4.179955</td>\n    </tr>\n    <tr>\n      <th>6912</th>\n      <td>64249</td>\n      <td>Shrek the Halls (2007)</td>\n      <td>Adventure|Animation|Comedy|Fantasy</td>\n      <td>This half-hour animated TV special features th...</td>\n      <td>4.131361</td>\n    </tr>\n    <tr>\n      <th>3192</th>\n      <td>4306</td>\n      <td>Shrek (2001)</td>\n      <td>Adventure|Animation|Children|Comedy|Fantasy|Ro...</td>\n      <td>A mean lord exiles fairytale creatures to the ...</td>\n      <td>4.091089</td>\n    </tr>\n    <tr>\n      <th>7526</th>\n      <td>84637</td>\n      <td>Gnomeo &amp; Juliet (2011)</td>\n      <td>Adventure|Animation|Children|Comedy|Fantasy|Ro...</td>\n      <td>Separated by a garden fence and a feud, are bl...</td>\n      <td>4.091089</td>\n    </tr>\n    <tr>\n      <th>8992</th>\n      <td>139855</td>\n      <td>Anomalisa (2015)</td>\n      <td>Animation|Comedy|Fantasy</td>\n      <td>A man crippled by the mundanity of his life ex...</td>\n      <td>4.074565</td>\n    </tr>\n    <tr>\n      <th>7956</th>\n      <td>96281</td>\n      <td>ParaNorman (2012)</td>\n      <td>Adventure|Animation|Comedy</td>\n      <td>A misunderstood boy takes on ghosts, zombies a...</td>\n      <td>4.036607</td>\n    </tr>\n  </tbody>\n</table>\n</div>"
     },
     "metadata": {},
     "execution_count": 43
    }
   ],
   "source": [
    "recp_us(rex, n=10)"
   ]
  },
  {
   "source": [
    "A modo de comprobación, la segunda recomendación es la película [Número 9][peli], que es una película de animación de un mundo port-apocalíptico; es decir, mezcla de Sci-Fi con animación, los géneros que al parecer le gustan al usuario de prueba.\n",
    "\n",
    "[peli]: https://www.imdb.com/title/tt0472033/"
   ],
   "cell_type": "markdown",
   "metadata": {}
  }
 ],
 "metadata": {
  "interpreter": {
   "hash": "c94ed52d418144633c7c72ae5e159b4167aaf5691afc30992860542bbd67e345"
  },
  "kernelspec": {
   "name": "python394jvsc74a57bd0753272ef72123fc72297b4153ff2bb916fd7493225d74e12b2c7a55ea6f849f4",
   "display_name": "Python 3.9.4 64-bit ('test_env': conda)"
  },
  "language_info": {
   "name": "python",
   "version": "3.9.4"
  },
  "metadata": {
   "interpreter": {
    "hash": "1b8aab1f7cedb5b18f523555cea659d92381e7cc2691edc52057565dc4757e25"
   }
  },
  "orig_nbformat": 2
 },
 "nbformat": 4,
 "nbformat_minor": 2
}